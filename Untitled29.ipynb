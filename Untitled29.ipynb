{
  "nbformat": 4,
  "nbformat_minor": 0,
  "metadata": {
    "colab": {
      "provenance": []
    },
    "kernelspec": {
      "name": "python3",
      "display_name": "Python 3"
    },
    "language_info": {
      "name": "python"
    }
  },
  "cells": [
    {
      "cell_type": "code",
      "source": [
        "!pip install SpeechRecognition\n",
        "\n",
        "\n"
      ],
      "metadata": {
        "colab": {
          "base_uri": "https://localhost:8080/"
        },
        "id": "9vupPF6FhOMM",
        "outputId": "227cf146-0e4c-4274-89fd-feca97cf29c3"
      },
      "execution_count": 4,
      "outputs": [
        {
          "output_type": "stream",
          "name": "stdout",
          "text": [
            "Collecting SpeechRecognition\n",
            "  Downloading SpeechRecognition-3.10.3-py2.py3-none-any.whl (32.8 MB)\n",
            "\u001b[2K     \u001b[90m━━━━━━━━━━━━━━━━━━━━━━━━━━━━━━━━━━━━━━━━\u001b[0m \u001b[32m32.8/32.8 MB\u001b[0m \u001b[31m19.9 MB/s\u001b[0m eta \u001b[36m0:00:00\u001b[0m\n",
            "\u001b[?25hRequirement already satisfied: requests>=2.26.0 in /usr/local/lib/python3.10/dist-packages (from SpeechRecognition) (2.31.0)\n",
            "Requirement already satisfied: typing-extensions in /usr/local/lib/python3.10/dist-packages (from SpeechRecognition) (4.11.0)\n",
            "Requirement already satisfied: charset-normalizer<4,>=2 in /usr/local/lib/python3.10/dist-packages (from requests>=2.26.0->SpeechRecognition) (3.3.2)\n",
            "Requirement already satisfied: idna<4,>=2.5 in /usr/local/lib/python3.10/dist-packages (from requests>=2.26.0->SpeechRecognition) (3.7)\n",
            "Requirement already satisfied: urllib3<3,>=1.21.1 in /usr/local/lib/python3.10/dist-packages (from requests>=2.26.0->SpeechRecognition) (2.0.7)\n",
            "Requirement already satisfied: certifi>=2017.4.17 in /usr/local/lib/python3.10/dist-packages (from requests>=2.26.0->SpeechRecognition) (2024.2.2)\n",
            "Installing collected packages: SpeechRecognition\n",
            "Successfully installed SpeechRecognition-3.10.3\n"
          ]
        }
      ]
    },
    {
      "cell_type": "code",
      "source": [
        "pip install gTTS"
      ],
      "metadata": {
        "colab": {
          "base_uri": "https://localhost:8080/"
        },
        "id": "2KwAHjh7hTWC",
        "outputId": "324a4420-6508-472e-cdd4-45c612edf98b"
      },
      "execution_count": 6,
      "outputs": [
        {
          "output_type": "stream",
          "name": "stdout",
          "text": [
            "Collecting gTTS\n",
            "  Downloading gTTS-2.5.1-py3-none-any.whl (29 kB)\n",
            "Requirement already satisfied: requests<3,>=2.27 in /usr/local/lib/python3.10/dist-packages (from gTTS) (2.31.0)\n",
            "Requirement already satisfied: click<8.2,>=7.1 in /usr/local/lib/python3.10/dist-packages (from gTTS) (8.1.7)\n",
            "Requirement already satisfied: charset-normalizer<4,>=2 in /usr/local/lib/python3.10/dist-packages (from requests<3,>=2.27->gTTS) (3.3.2)\n",
            "Requirement already satisfied: idna<4,>=2.5 in /usr/local/lib/python3.10/dist-packages (from requests<3,>=2.27->gTTS) (3.7)\n",
            "Requirement already satisfied: urllib3<3,>=1.21.1 in /usr/local/lib/python3.10/dist-packages (from requests<3,>=2.27->gTTS) (2.0.7)\n",
            "Requirement already satisfied: certifi>=2017.4.17 in /usr/local/lib/python3.10/dist-packages (from requests<3,>=2.27->gTTS) (2024.2.2)\n",
            "Installing collected packages: gTTS\n",
            "Successfully installed gTTS-2.5.1\n"
          ]
        }
      ]
    },
    {
      "cell_type": "code",
      "source": [
        "import speech_recognition as sr\n",
        "from gtts import gTTS\n",
        "import os\n",
        "from IPython.display import Audio\n",
        "\n",
        "def recognize_speech(audio_file):\n",
        "    recognizer = sr.Recognizer()\n",
        "\n",
        "    with sr.AudioFile(audio_file) as source:\n",
        "        recognizer.adjust_for_ambient_noise(source)\n",
        "        audio_data = recognizer.record(source)\n",
        "\n",
        "    try:\n",
        "        recognized_text = recognizer.recognize_google(audio_data)\n",
        "        return recognized_text\n",
        "    except sr.UnknownValueError:\n",
        "        return \"Speech recognition could not understand audio\"\n",
        "    except sr.RequestError as e:\n",
        "        return \"Could not request results from Google Speech Recognition service; {0}\".format(e)\n",
        "\n",
        "def text_to_speech(text, lang='en'):\n",
        "    tts = gTTS(text=text, lang=lang)\n",
        "    tts.save(\"output.mp3\")\n",
        "    return \"output.mp3\"\n",
        "\n",
        "def main():\n",
        "    # Text to be converted to speech\n",
        "    text = \"hi how are u\"\n",
        "\n",
        "    # Language for speech synthesis (you can change this as needed)\n",
        "    language = 'en'\n",
        "\n",
        "    # Save the speech to an audio file\n",
        "    audio_file = text_to_speech(text, lang=language)\n",
        "\n",
        "    # Play the audio file\n",
        "    display(Audio(audio_file, autoplay=True))\n",
        "\n",
        "    # Recognize speech from audio\n",
        "\n",
        "\n",
        "if __name__ == \"__main__\":\n",
        "    main()\n"
      ],
      "metadata": {
        "colab": {
          "base_uri": "https://localhost:8080/",
          "height": 75
        },
        "id": "gORA0cGliDui",
        "outputId": "2d369f9b-69c8-4b9e-a36e-59131e8b9e9c"
      },
      "execution_count": 31,
      "outputs": [
        {
          "output_type": "display_data",
          "data": {
            "text/plain": [
              "<IPython.lib.display.Audio object>"
            ],
            "text/html": [
              "\n",
              "                <audio  controls=\"controls\" autoplay=\"autoplay\">\n",
              "                    <source src=\"data:audio/mpeg;base64,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\" type=\"audio/mpeg\" />\n",
              "                    Your browser does not support the audio element.\n",
              "                </audio>\n",
              "              "
            ]
          },
          "metadata": {}
        }
      ]
    },
    {
      "cell_type": "code",
      "source": [
        "pip install pyttsx3"
      ],
      "metadata": {
        "colab": {
          "base_uri": "https://localhost:8080/"
        },
        "id": "rptFU1aQlL23",
        "outputId": "76d33f4f-8966-49af-a9fc-aefc4251081e"
      },
      "execution_count": 25,
      "outputs": [
        {
          "output_type": "stream",
          "name": "stdout",
          "text": [
            "Collecting pyttsx3\n",
            "  Downloading pyttsx3-2.90-py3-none-any.whl (39 kB)\n",
            "Installing collected packages: pyttsx3\n",
            "Successfully installed pyttsx3-2.90\n"
          ]
        }
      ]
    },
    {
      "cell_type": "code",
      "source": [
        "pip install pyaudio"
      ],
      "metadata": {
        "colab": {
          "base_uri": "https://localhost:8080/"
        },
        "id": "B8Mnnq-MlPqO",
        "outputId": "302bab99-6f76-465d-8076-4a2d5b4fd90f"
      },
      "execution_count": 26,
      "outputs": [
        {
          "output_type": "stream",
          "name": "stdout",
          "text": [
            "Collecting pyaudio\n",
            "  Downloading PyAudio-0.2.14.tar.gz (47 kB)\n",
            "\u001b[?25l     \u001b[90m━━━━━━━━━━━━━━━━━━━━━━━━━━━━━━━━━━━━━━━━\u001b[0m \u001b[32m0.0/47.1 kB\u001b[0m \u001b[31m?\u001b[0m eta \u001b[36m-:--:--\u001b[0m\r\u001b[2K     \u001b[91m━━━━━━━━━━━━━━━━━━━━━━━━━━━━━━━━━━\u001b[0m\u001b[91m╸\u001b[0m\u001b[90m━━━━━\u001b[0m \u001b[32m41.0/47.1 kB\u001b[0m \u001b[31m1.0 MB/s\u001b[0m eta \u001b[36m0:00:01\u001b[0m\r\u001b[2K     \u001b[90m━━━━━━━━━━━━━━━━━━━━━━━━━━━━━━━━━━━━━━━━\u001b[0m \u001b[32m47.1/47.1 kB\u001b[0m \u001b[31m846.5 kB/s\u001b[0m eta \u001b[36m0:00:00\u001b[0m\n",
            "\u001b[?25h  Installing build dependencies ... \u001b[?25l\u001b[?25hdone\n",
            "  Getting requirements to build wheel ... \u001b[?25l\u001b[?25hdone\n",
            "  Preparing metadata (pyproject.toml) ... \u001b[?25l\u001b[?25hdone\n",
            "Building wheels for collected packages: pyaudio\n",
            "  \u001b[1;31merror\u001b[0m: \u001b[1msubprocess-exited-with-error\u001b[0m\n",
            "  \n",
            "  \u001b[31m×\u001b[0m \u001b[32mBuilding wheel for pyaudio \u001b[0m\u001b[1;32m(\u001b[0m\u001b[32mpyproject.toml\u001b[0m\u001b[1;32m)\u001b[0m did not run successfully.\n",
            "  \u001b[31m│\u001b[0m exit code: \u001b[1;36m1\u001b[0m\n",
            "  \u001b[31m╰─>\u001b[0m See above for output.\n",
            "  \n",
            "  \u001b[1;35mnote\u001b[0m: This error originates from a subprocess, and is likely not a problem with pip.\n",
            "  Building wheel for pyaudio (pyproject.toml) ... \u001b[?25l\u001b[?25herror\n",
            "\u001b[31m  ERROR: Failed building wheel for pyaudio\u001b[0m\u001b[31m\n",
            "\u001b[0mFailed to build pyaudio\n",
            "\u001b[31mERROR: Could not build wheels for pyaudio, which is required to install pyproject.toml-based projects\u001b[0m\u001b[31m\n",
            "\u001b[0m"
          ]
        }
      ]
    },
    {
      "cell_type": "code",
      "source": [],
      "metadata": {
        "id": "lJn9wN8wlTrn"
      },
      "execution_count": null,
      "outputs": []
    }
  ]
}